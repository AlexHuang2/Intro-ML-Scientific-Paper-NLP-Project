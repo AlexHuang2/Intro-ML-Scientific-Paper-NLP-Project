{
 "cells": [
  {
   "cell_type": "code",
   "execution_count": 9,
   "metadata": {},
   "outputs": [
    {
     "name": "stdout",
     "output_type": "stream",
     "text": [
      "my_auth.full_name:  Paul John McGuiness\n",
      "scp_doc.title:  Control of somatic tissue differentiation by the long non-coding RNA TINCR\n",
      "pii_doc.title:  Establishing the fair allocation of international aviation carbon emission rights\n"
     ]
    }
   ],
   "source": [
    "\"\"\"An example program that uses the elsapy module\"\"\"\n",
    "\n",
    "from elsapy.elsclient import ElsClient\n",
    "from elsapy.elsprofile import ElsAuthor, ElsAffil\n",
    "from elsapy.elsdoc import FullDoc, AbsDoc\n",
    "from elsapy.elssearch import ElsSearch\n",
    "import json\n",
    "    \n",
    "## Load configuration\n",
    "with open(\"/Users/alexhuang/Google Drive/ML Project/elsapy_/config.json\") as f:\n",
    "    config = json.load(f)\n",
    "    \n",
    "con_file.close()\n",
    "\n",
    "## Initialize client\n",
    "client = ElsClient(config['apikey'])\n",
    "# client.inst_token = config['insttoken']\n",
    "\n",
    "## Author example\n",
    "# Initialize author with uri\n",
    "my_auth = ElsAuthor(\n",
    "        uri = 'https://api.elsevier.com/content/author/author_id/7004367821')\n",
    "# Read author data, then write to disk\n",
    "if my_auth.read(client):\n",
    "    print (\"my_auth.full_name: \", my_auth.full_name)\n",
    "    my_auth.write()\n",
    "else:\n",
    "    print (\"Read author failed.\")\n",
    "\n",
    "## Affiliation example\n",
    "# Initialize affiliation with ID as string\n",
    "# my_aff = ElsAffil(affil_id = '60101411')\n",
    "# if my_aff.read(client):\n",
    "#     print (\"my_aff.name: \", my_aff.name)\n",
    "#     my_aff.write()\n",
    "# else:\n",
    "#     print (\"Read affiliation failed.\")\n",
    "\n",
    "## Scopus (Abtract) document example\n",
    "# Initialize document with Scopus ID.\n",
    "scp_doc = AbsDoc(scp_id = '84872135457')\n",
    "if scp_doc.read(client):\n",
    "    print (\"scp_doc.title: \", scp_doc.title)\n",
    "    scp_doc.write()   \n",
    "else:\n",
    "    print (\"Read document failed.\")\n",
    "\n",
    "## ScienceDirect (full-text) document example using PII\n",
    "pii_doc = FullDoc(sd_pii = 'S1674927814000082')\n",
    "if pii_doc.read(client):\n",
    "    print (\"pii_doc.title: \", pii_doc.title)\n",
    "    pii_doc.write()   \n",
    "else:\n",
    "    print (\"Read document failed.\")"
   ]
  },
  {
   "cell_type": "code",
   "execution_count": 15,
   "metadata": {},
   "outputs": [
    {
     "data": {
      "text/plain": [
       "dict_keys(['scopus-eid', 'originalText', 'scopus-id', 'coredata', 'objects', 'link'])"
      ]
     },
     "execution_count": 15,
     "metadata": {},
     "output_type": "execute_result"
    }
   ],
   "source": [
    "pii_doc.data.keys()"
   ]
  },
  {
   "cell_type": "code",
   "execution_count": 28,
   "metadata": {},
   "outputs": [
    {
     "data": {
      "text/plain": [
       "'84933504316'"
      ]
     },
     "execution_count": 28,
     "metadata": {},
     "output_type": "execute_result"
    }
   ],
   "source": [
    "pii_doc.data['scopus-id']"
   ]
  },
  {
   "cell_type": "code",
   "execution_count": 26,
   "metadata": {},
   "outputs": [
    {
     "data": {
      "text/plain": [
       "dict_keys(['item', 'affiliation', 'coredata', 'idxterms', 'language', 'authkeywords', 'subject-areas', 'authors'])"
      ]
     },
     "execution_count": 26,
     "metadata": {},
     "output_type": "execute_result"
    }
   ],
   "source": [
    "scp_doc.data.keys()"
   ]
  },
  {
   "cell_type": "code",
   "execution_count": 36,
   "metadata": {},
   "outputs": [
    {
     "data": {
      "text/plain": [
       "'84933504316'"
      ]
     },
     "execution_count": 36,
     "metadata": {},
     "output_type": "execute_result"
    }
   ],
   "source": [
    "pii_doc.data['scopus-id']"
   ]
  },
  {
   "cell_type": "code",
   "execution_count": 35,
   "metadata": {},
   "outputs": [
    {
     "ename": "AttributeError",
     "evalue": "'NoneType' object has no attribute 'keys'",
     "output_type": "error",
     "traceback": [
      "Traceback \u001b[0;36m(most recent call last)\u001b[0m:\n",
      "\u001b[0;36m  File \u001b[0;32m\"<ipython-input-35-b78550b00515>\"\u001b[0;36m, line \u001b[0;32m1\u001b[0;36m, in \u001b[0;35m<module>\u001b[0;36m\u001b[0m\n\u001b[0;31m    AbsDoc(scp_id = pii_doc.data['scopus-id']).data.keys()#['coredata']#['citedby-count']\u001b[0m\n",
      "\u001b[0;31mAttributeError\u001b[0m\u001b[0;31m:\u001b[0m 'NoneType' object has no attribute 'keys'\n"
     ]
    }
   ],
   "source": [
    "AbsDoc(scp_id = pii_doc.data['scopus-id']).data.keys()#['coredata']#['citedby-count']"
   ]
  },
  {
   "cell_type": "code",
   "execution_count": null,
   "metadata": {},
   "outputs": [],
   "source": [
    "\n",
    "## ScienceDirect (full-text) document example using DOI\n",
    "doi_doc = FullDoc(doi = '10.1016/S1525-1578(10)60571-5')\n",
    "if doi_doc.read(client):\n",
    "    print (\"doi_doc.title: \", doi_doc.title)\n",
    "    doi_doc.write()   \n",
    "else:\n",
    "    print (\"Read document failed.\")\n",
    "\n",
    "\n",
    "## Load list of documents from the API into affilation and author objects.\n",
    "# Since a document list is retrieved for 25 entries at a time, this is\n",
    "#  a potentially lenghty operation - hence the prompt.\n",
    "print (\"Load documents (Y/N)?\")\n",
    "s = input('--> ')\n",
    "\n",
    "if (s == \"y\" or s == \"Y\"):\n",
    "\n",
    "    ## Read all documents for example author, then write to disk\n",
    "    if my_auth.read_docs(client):\n",
    "        print (\"my_auth.doc_list has \" + str(len(my_auth.doc_list)) + \" items.\")\n",
    "        my_auth.write_docs()\n",
    "    else:\n",
    "        print (\"Read docs for author failed.\")\n",
    "\n",
    "    ## Read all documents for example affiliation, then write to disk\n",
    "    if my_aff.read_docs(client):\n",
    "        print (\"my_aff.doc_list has \" + str(len(my_aff.doc_list)) + \" items.\")\n",
    "        my_aff.write_docs()\n",
    "    else:\n",
    "        print (\"Read docs for affiliation failed.\")\n",
    "\n",
    "## Initialize author search object and execute search\n",
    "auth_srch = ElsSearch('authlast(keuskamp)','author')\n",
    "auth_srch.execute(client)\n",
    "print (\"auth_srch has\", len(auth_srch.results), \"results.\")\n",
    "\n",
    "## Initialize affiliation search object and execute search\n",
    "aff_srch = ElsSearch('affil(amsterdam)','affiliation')\n",
    "aff_srch.execute(client)\n",
    "print (\"aff_srch has\", len(aff_srch.results), \"results.\")\n",
    "\n",
    "## Initialize doc search object and execute search, retrieving all results\n",
    "doc_srch = ElsSearch('star+trek+vs+star+wars','scopus')\n",
    "doc_srch.execute(client, get_all = True)\n",
    "print (\"doc_srch has\", len(doc_srch.results), \"results.\")"
   ]
  }
 ],
 "metadata": {
  "kernelspec": {
   "display_name": "Python 3 (Spyder)",
   "language": "python3",
   "name": "python3"
  },
  "language_info": {
   "codemirror_mode": {
    "name": "ipython",
    "version": 3
   },
   "file_extension": ".py",
   "mimetype": "text/x-python",
   "name": "python",
   "nbconvert_exporter": "python",
   "pygments_lexer": "ipython3",
   "version": "3.6.5"
  }
 },
 "nbformat": 4,
 "nbformat_minor": 2
}
