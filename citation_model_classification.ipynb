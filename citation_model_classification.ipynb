{
 "cells": [
  {
   "cell_type": "code",
   "execution_count": 6,
   "metadata": {
    "scrolled": true
   },
   "outputs": [],
   "source": [
    "# import pickle\n",
    "\n",
    "# X_pathname = \"/Volumes/MasterDrive/ML project data/X.pkl\"\n",
    "# with open(X_pathname, 'rb') as infile_X:\n",
    "#     X = pickle.load(infile_X)\n",
    "    \n",
    "# y_pathname = \"/Volumes/MasterDrive/ML project data/y.pkl\"\n",
    "# with open(y_pathname, 'rb') as infile_y:\n",
    "#     y = pickle.load(infile_y)"
   ]
  },
  {
   "cell_type": "code",
   "execution_count": 7,
   "metadata": {},
   "outputs": [],
   "source": [
    "# from sklearn.model_selection import train_test_split\n",
    "# from sklearn.preprocessing import StandardScaler\n",
    "# from sklearn.decomposition import PCA\n",
    "\n",
    "# Xtr, Xts, ytr, yts = train_test_split(X, y, test_size = 0.2)"
   ]
  },
  {
   "cell_type": "code",
   "execution_count": 8,
   "metadata": {},
   "outputs": [],
   "source": [
    "# tr_shape = ((Xtr.shape[0],Xtr.shape[1]*Xtr.shape[2]))\n",
    "# ts_shape = ((Xts.shape[0],Xts.shape[1]*Xts.shape[2]))\n",
    "\n",
    "# scaler = StandardScaler()\n",
    "# Xtr_scaled = scaler.fit_transform(Xtr.reshape(tr_shape))\n",
    "# Xts_scaled = scaler.transform(Xts.reshape(ts_shape))"
   ]
  },
  {
   "cell_type": "code",
   "execution_count": 9,
   "metadata": {},
   "outputs": [],
   "source": [
    "# Xtr_pathname = \"/Volumes/MasterDrive/ML project data/Xtr_scaled.pkl\"\n",
    "# with open(Xtr_pathname, 'wb') as output_Xtr:\n",
    "#     pickle.dump(Xtr_scaled, output_Xtr, pickle.HIGHEST_PROTOCOL)\n",
    "    \n",
    "# Xts_pathname = \"/Volumes/MasterDrive/ML project data/Xts_scaled.pkl\"\n",
    "# with open(Xts_pathname, 'wb') as output_Xts:\n",
    "#     pickle.dump(Xts_scaled, output_Xts, pickle.HIGHEST_PROTOCOL)"
   ]
  },
  {
   "cell_type": "code",
   "execution_count": 10,
   "metadata": {},
   "outputs": [],
   "source": [
    "# pca = PCA()\n",
    "# Xtr_reduced = pca.fit_transform(Xtr_scaled.reshape(tr_shape))\n",
    "# Xts_reduced = pca.transform(Xts_scaled.reshape(ts_shape))"
   ]
  },
  {
   "cell_type": "code",
   "execution_count": 11,
   "metadata": {},
   "outputs": [],
   "source": [
    "# Xtr_pathname = \"/Volumes/MasterDrive/ML project data/Xtr_reduced.pkl\"\n",
    "# with open(Xtr_pathname, 'wb') as output_Xtr_red:\n",
    "#     pickle.dump(Xtr_reduced, output_Xtr_red, pickle.HIGHEST_PROTOCOL)\n",
    "    \n",
    "# Xts_pathname = \"/Volumes/MasterDrive/ML project data/Xts_reduced.pkl\"\n",
    "# with open(Xts_pathname, 'wb') as output_Xts_red:\n",
    "#     pickle.dump(Xts_reduced, output_Xts_red, pickle.HIGHEST_PROTOCOL)"
   ]
  },
  {
   "cell_type": "code",
   "execution_count": 12,
   "metadata": {},
   "outputs": [],
   "source": [
    "# ytr_pathname = \"/Volumes/MasterDrive/ML project data/ytr.pkl\"\n",
    "# with open(ytr_pathname, 'wb') as output_ytr:\n",
    "#     pickle.dump(ytr, output_ytr, pickle.HIGHEST_PROTOCOL)\n",
    "\n",
    "# yts_pathname = \"/Volumes/MasterDrive/ML project data/yts.pkl\"\n",
    "# with open(yts_pathname, 'wb') as output_yts:\n",
    "#     pickle.dump(yts, output_yts, pickle.HIGHEST_PROTOCOL)"
   ]
  },
  {
   "cell_type": "code",
   "execution_count": 1,
   "metadata": {},
   "outputs": [],
   "source": [
    "import os\n",
    "import pickle\n",
    "\n",
    "# Xtr and Xts are the processed data that have been modified \n",
    "# via scaling and PCA.\n",
    "\n",
    "Xtr_pathname = str(os.getcwd()) + \"/Xtr_reduced.pkl\"\n",
    "with open(Xtr_pathname, 'rb') as infile_Xtr:\n",
    "    Xtr_reduced = pickle.load(infile_Xtr)\n",
    "\n",
    "Xts_pathname = str(os.getcwd()) + \"/Xts_reduced.pkl\"\n",
    "with open(Xts_pathname, 'rb') as infile_Xts:\n",
    "    Xts_reduced = pickle.load(infile_Xts)\n",
    "    \n",
    "ytr_pathname = str(os.getcwd()) + \"/ytr.pkl\"\n",
    "with open(ytr_pathname, 'rb') as infile_ytr:\n",
    "    ytr = pickle.load(infile_ytr)\n",
    "    \n",
    "yts_pathname = str(os.getcwd()) + \"/yts.pkl\"\n",
    "with open(yts_pathname, 'rb') as infile_yts:\n",
    "    yts = pickle.load(infile_yts)"
   ]
  },
  {
   "cell_type": "code",
   "execution_count": 2,
   "metadata": {},
   "outputs": [
    {
     "data": {
      "text/plain": [
       "(3834,)"
      ]
     },
     "execution_count": 2,
     "metadata": {},
     "output_type": "execute_result"
    }
   ],
   "source": [
    "ytr.shape"
   ]
  },
  {
   "cell_type": "code",
   "execution_count": 3,
   "metadata": {},
   "outputs": [],
   "source": [
    "from sklearn.utils import resample\n",
    "import numpy as np\n",
    "\n",
    "Xtr_majority = Xtr_reduced[ytr==0]\n",
    "n_class = Xtr_majority.shape[0]\n",
    "Xtr_minority = Xtr_reduced[ytr==1]\n",
    "\n",
    "Xtr_minority_upsampled = resample(Xtr_minority, \n",
    "                                 replace=True,     # sample with replacement\n",
    "                                 n_samples=n_class,    # to match majority class\n",
    "                                 random_state=123) # reproducible results\n",
    "\n",
    "ytr_majority = ytr[ytr==0]\n",
    "ytr_minority_upsampled = np.ones(n_class)\n",
    "\n",
    "Xtr_upsampled = np.concatenate([Xtr_majority,Xtr_minority_upsampled])\n",
    "ytr_upsampled = np.concatenate([ytr_majority,ytr_minority_upsampled]).astype(int)\n",
    "\n",
    "permutation = np.random.permutation(Xtr_upsampled.shape[0])\n",
    "\n",
    "Xtr_upsampled = Xtr_upsampled[permutation]\n",
    "ytr_upsampled = ytr_upsampled[permutation]\n",
    "\n",
    "# no need to upsampled test data because we only need a balanced dataset to train."
   ]
  },
  {
   "cell_type": "code",
   "execution_count": 4,
   "metadata": {},
   "outputs": [
    {
     "name": "stderr",
     "output_type": "stream",
     "text": [
      "/Users/alexhuang/anaconda3/lib/python3.6/site-packages/sklearn/linear_model/logistic.py:433: FutureWarning: Default solver will be changed to 'lbfgs' in 0.22. Specify a solver to silence this warning.\n",
      "  FutureWarning)\n"
     ]
    }
   ],
   "source": [
    "# from sklearn.metrics import f1_score, precision_score, recall_score\n",
    "from sklearn.linear_model import LogisticRegression\n",
    "\n",
    "model = LogisticRegression()\n",
    "model.fit(Xtr_upsampled, ytr_upsampled)\n",
    "\n",
    "yhat = model.predict(Xts_reduced)"
   ]
  },
  {
   "cell_type": "code",
   "execution_count": 5,
   "metadata": {},
   "outputs": [
    {
     "name": "stdout",
     "output_type": "stream",
     "text": [
      "0.3393213572854291\n",
      "0.25449101796407186\n",
      "0.5089820359281437\n"
     ]
    }
   ],
   "source": [
    "from sklearn.metrics import f1_score, precision_score, recall_score\n",
    "\n",
    "# F1 score is more appropriate due to imbalanced dataset\n",
    "print(f1_score(yts,yhat))\n",
    "print(precision_score(yts,yhat))\n",
    "print(recall_score(yts,yhat))"
   ]
  },
  {
   "cell_type": "code",
   "execution_count": null,
   "metadata": {},
   "outputs": [],
   "source": []
  }
 ],
 "metadata": {
  "kernelspec": {
   "display_name": "Python 3",
   "language": "python",
   "name": "python3"
  },
  "language_info": {
   "codemirror_mode": {
    "name": "ipython",
    "version": 3
   },
   "file_extension": ".py",
   "mimetype": "text/x-python",
   "name": "python",
   "nbconvert_exporter": "python",
   "pygments_lexer": "ipython3",
   "version": "3.6.8"
  }
 },
 "nbformat": 4,
 "nbformat_minor": 2
}
