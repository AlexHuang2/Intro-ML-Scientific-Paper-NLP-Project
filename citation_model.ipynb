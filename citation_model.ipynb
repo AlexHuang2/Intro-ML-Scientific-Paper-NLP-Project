{
 "cells": [
  {
   "cell_type": "code",
   "execution_count": 3,
   "metadata": {},
   "outputs": [],
   "source": [
    "#from pyscopus import Scopus\n",
    "import json\n",
    "import os\n",
    "import numpy as np\n",
    "#import requests\n",
    "    \n",
    "## Load configuration\n",
    "# filename = os.getcwd() + \"/elsapy_/config.json\"\n",
    "# with open(filename) as f:\n",
    "#     config = json.load(f)\n",
    "\n",
    "# scopus = Scopus(config['apikey'])"
   ]
  },
  {
   "cell_type": "code",
   "execution_count": 4,
   "metadata": {},
   "outputs": [],
   "source": [
    "import pickle\n",
    "#import os\n",
    "\n",
    "#import data from pickle file\n",
    "name = str(os.getcwd()) + '/search_df.pkl'\n",
    "with open(name, 'rb') as infile:\n",
    "    search_df = pickle.load(infile)"
   ]
  },
  {
   "cell_type": "code",
   "execution_count": 5,
   "metadata": {},
   "outputs": [
    {
     "name": "stderr",
     "output_type": "stream",
     "text": [
      "/Users/alexhuang/anaconda3/lib/python3.6/site-packages/smart_open/ssh.py:34: UserWarning: paramiko missing, opening SSH/SCP/SFTP paths will be disabled.  `pip install paramiko` to suppress\n",
      "  warnings.warn('paramiko missing, opening SSH/SCP/SFTP paths will be disabled.  `pip install paramiko` to suppress')\n"
     ]
    }
   ],
   "source": [
    "import pandas as pd\n",
    "import nltk\n",
    "import gensim\n",
    "\n",
    "#load Google's word2vec model. This model is a large pre-trained model for converting words to vectors\n",
    "word_vectors = gensim.models.KeyedVectors.load_word2vec_format('/Volumes/MasterDrive/GoogleNews-vectors-negative300.bin', binary=True)"
   ]
  },
  {
   "cell_type": "code",
   "execution_count": 6,
   "metadata": {},
   "outputs": [],
   "source": [
    "#download these files once\n",
    "#nltk.download('punkt')\n",
    "#nltk.download('stopwords')\n",
    "\n",
    "#load stop words, words to delete from the files\n",
    "stop = set(nltk.corpus.stopwords.words('english'))\n",
    "\n",
    "# nonempty full texts\n",
    "full_text = search_df['abstract']\n",
    "\n",
    "\n",
    "\n",
    "#convert text to token list\n",
    "def entry_vectorize(entry):\n",
    "    full_text_entry = nltk.word_tokenize(str(entry))\n",
    "    full_text_vector = [word_vectors[w.lower()] for w in full_text_entry if w.lower() in word_vectors.vocab and w.lower() not in stop]\n",
    "    return np.array(full_text_vector)\n",
    "\n",
    "full_text_vectorized = full_text.apply(lambda entry: entry_vectorize(entry))"
   ]
  },
  {
   "cell_type": "code",
   "execution_count": 7,
   "metadata": {},
   "outputs": [],
   "source": [
    "import matplotlib.pyplot as plt\n",
    "%matplotlib inline\n",
    "#full_text_vectorized.shape\n",
    "\n",
    "def get_doc_word_length(doc):\n",
    "    return doc.shape[0]\n",
    "\n",
    "#def pad(doc):\n",
    "\n",
    "doc_lengths = full_text_vectorized.apply(lambda doc: get_doc_word_length(doc))\n",
    "zero_mask = (doc_lengths >= 10)\n",
    "\n",
    "search_df_new = search_df[zero_mask]\n",
    "\n",
    "full_text_vec_nonzero = full_text_vectorized[zero_mask]\n",
    "doc_lengths = full_text_vec_nonzero.apply(lambda doc: get_doc_word_length(doc))\n",
    "\n",
    "# Try without outliers first\n",
    "full_text_vec_new = full_text_vec_nonzero\n",
    "\n",
    "\n",
    "\n",
    "# outlier_mask = abs(doc_lengths - (np.mean(doc_lengths))) < 3*np.std(doc_lengths)\n",
    "# full_text_vec_new = full_text_vec_nonzero[outlier_mask]\n",
    "# new_max_words = np.max(doc_lengths[outlier_mask])\n",
    "#print(full_text_vec_no_outliers.shape)\n",
    "\n",
    "\n",
    "# mask = (outlier_mask & zero_mask)\n",
    "# full_text_vec_new = full_text_vectorized[mask]\n",
    "# print(full_text_vec_new.shape)\n",
    "\n",
    "\n",
    "\n",
    "\n",
    "# print(search_df_new.shape)\n",
    "\n",
    "#print(doc_lengths[outlier_mask].mean())\n",
    "\n",
    "# plt.figure()\n",
    "# plt.hist(search_df_new['citation_count'])\n",
    "# plt.show()\n"
   ]
  },
  {
   "cell_type": "code",
   "execution_count": 8,
   "metadata": {},
   "outputs": [],
   "source": [
    "#linear regression model\n",
    "import sklearn\n",
    "from sklearn.linear_model import LogisticRegression\n",
    "\n",
    "y = search_df_new['citation_count'] #[pd.notnull(search_df['full_text'])]\n",
    "X = full_text_vec_new\n",
    "\n",
    "doc_lengths_new = X.apply(lambda doc: get_doc_word_length(doc))\n",
    "\n",
    "max_words = np.max(doc_lengths_new)\n",
    "# print(max_words)\n",
    "# print(np.mean(doc_lengths_new))\n",
    "# plt.hist(doc_lengths,bins=20)\n",
    "# print(np.std(doc_lengths_new))\n",
    "\n",
    "def pad(x):\n",
    "    u_x = x.mean(axis=0)\n",
    "    to_pad = np.repeat(u_x, max_words - x.shape[0]).reshape((max_words - x.shape[0],x.shape[1]))\n",
    "    padded_x = np.concatenate([x,to_pad])\n",
    "    return padded_x\n",
    "    \n",
    "X_padded = np.concatenate(X.apply(lambda x: pad(x)).to_list()).reshape((X.shape[0],max_words,X[0].shape[1]))\n",
    "\n",
    "\n"
   ]
  },
  {
   "cell_type": "code",
   "execution_count": 9,
   "metadata": {},
   "outputs": [],
   "source": [
    "X_padded.shape\n",
    "#test if there are any citations, so make y binary\n",
    "y_binary = np.where(y > 0, 1, 0)\n",
    "\n",
    "X_pathname = \"/Volumes/MasterDrive/ML project data/X.pkl\"\n",
    "with open(X_pathname, 'wb') as output_X:\n",
    "    pickle.dump(X_padded, output_X, pickle.HIGHEST_PROTOCOL)\n",
    "    \n",
    "y_pathname = \"/Volumes/MasterDrive/ML project data/y.pkl\"\n",
    "with open(y_pathname, 'wb') as output_y:\n",
    "    pickle.dump(y_binary, output_y, pickle.HIGHEST_PROTOCOL)"
   ]
  },
  {
   "cell_type": "code",
   "execution_count": null,
   "metadata": {},
   "outputs": [],
   "source": [
    "# from sklearn.model_selection import train_test_split\n",
    "# from sklearn.preprocessing import StandardScaler\n",
    "# from sklearn.decomposition import PCA\n",
    "\n",
    "\n",
    "\n",
    "# Xtr, Xts, ytr, yts = train_test_split(X_padded, y_binary, test_size = 0.2)\n",
    "\n",
    "# tr_shape = ((Xtr.shape[0],Xtr.shape[1]*Xtr.shape[2]))\n",
    "# ts_shape = ((Xts.shape[0],Xts.shape[1]*Xts.shape[2]))\n",
    "\n",
    "# scaler = StandardScaler()\n",
    "# Xtr_scaled = scaler.fit_transform(Xtr.reshape(tr_shape))\n",
    "# Xts_scaled = scaler.transform(Xts.reshape(ts_shape))\n",
    "\n",
    "# pca = PCA()\n",
    "# Xtr_reduced = pca.fit_transform(Xtr.reshape(tr_shape))\n",
    "# Xts_reduced = pca.transform(Xts.reshape(ts_shape))\n",
    "\n",
    "\n",
    "\n"
   ]
  },
  {
   "cell_type": "code",
   "execution_count": null,
   "metadata": {},
   "outputs": [],
   "source": [
    "# from sklearn.metrics import f1_score\n",
    "# from sklearn.linear_model import LinearRegression\n",
    "\n",
    "# model = LinearRegression()\n",
    "# model.fit(Xtr.reshape(tr_shape), ytr)\n",
    "\n",
    "# yhat = model.predict(Xts.reshape(ts_shape))\n",
    "\n",
    "# # F1 score is more appropriate due to imbalanced dataset\n",
    "# print(f1_score(yts,yhat))"
   ]
  },
  {
   "cell_type": "code",
   "execution_count": null,
   "metadata": {},
   "outputs": [],
   "source": [
    "# zero_citation_dates = pd.to_datetime(search_df_new['cover_date'][search_df_new['citation_count']==0]).sort_values()\n",
    "                                     \n",
    "# nonzero_citation_dates = pd.to_datetime(search_df_new['cover_date'][search_df_new['citation_count']!=0]).sort_values()\n",
    "\n",
    "# mean_date_zero = (np.array(zero_citation_dates, dtype='datetime64[s]')\n",
    "#         .view('i8')\n",
    "#         .mean()\n",
    "#         .astype('datetime64[s]'))\n",
    "\n",
    "# mean_date_nonzero = (np.array(nonzero_citation_dates, dtype='datetime64[s]')\n",
    "#         .view('i8')\n",
    "#         .mean()\n",
    "#         .astype('datetime64[s]'))"
   ]
  }
 ],
 "metadata": {
  "kernelspec": {
   "display_name": "Python 3 (Spyder)",
   "language": "python3",
   "name": "python3"
  },
  "language_info": {
   "codemirror_mode": {
    "name": "ipython",
    "version": 3
   },
   "file_extension": ".py",
   "mimetype": "text/x-python",
   "name": "python",
   "nbconvert_exporter": "python",
   "pygments_lexer": "ipython3",
   "version": "3.6.8"
  }
 },
 "nbformat": 4,
 "nbformat_minor": 2
}
