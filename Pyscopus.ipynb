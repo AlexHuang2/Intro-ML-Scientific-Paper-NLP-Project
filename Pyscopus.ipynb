{
 "cells": [
  {
   "cell_type": "code",
   "execution_count": 25,
   "metadata": {},
   "outputs": [],
   "source": [
    "from pyscopus import Scopus\n",
    "import json\n",
    "import os\n",
    "import numpy as np\n",
    "    \n",
    "## Load configuration\n",
    "filename = os.getcwd() + \"/elsapy_/config.json\"\n",
    "with open(filename) as f:\n",
    "    config = json.load(f)\n",
    "\n",
    "scopus = Scopus(config['apikey'])"
   ]
  },
  {
   "cell_type": "code",
   "execution_count": 22,
   "metadata": {},
   "outputs": [
    {
     "name": "stdout",
     "output_type": "stream",
     "text": [
      "0    0\n",
      "1    0\n",
      "2    0\n",
      "3    0\n",
      "4    0\n",
      "5    0\n",
      "6    0\n",
      "7    0\n",
      "8    0\n",
      "9    0\n",
      "Name: citation_count, dtype: int64\n"
     ]
    }
   ],
   "source": [
    "search_df = scopus.search(\"KEY(interdisciplinary collaboration)\", count=10)\n",
    "s_ids = search_df['scopus_id']\n",
    "titles = search_df['title']\n",
    "citation_counts = search_df['citation_count']\n",
    "print(citation_counts)"
   ]
  },
  {
   "cell_type": "code",
   "execution_count": 23,
   "metadata": {},
   "outputs": [],
   "source": [
    "abstracts = []\n",
    "for s in s_ids:\n",
    "    pub_info = scopus.retrieve_abstract(s)\n",
    "    abstracts.append(pub_info['abstract'])\n",
    "#print(abstracts)\n",
    "#full_texts = scopus.retrieve_fulltext(scopus_id_array=s_ids)\n",
    "#print(scopus.retrieve_citation(scopus_id_array=s_ids,year_range=[2010, 2018])"
   ]
  },
  {
   "cell_type": "code",
   "execution_count": 32,
   "metadata": {},
   "outputs": [],
   "source": [
    "y = citation_counts\n",
    "#X = np.stack((titles, abstracts))"
   ]
  },
  {
   "cell_type": "code",
   "execution_count": null,
   "metadata": {},
   "outputs": [],
   "source": []
  }
 ],
 "metadata": {
  "kernelspec": {
   "display_name": "Python 3",
   "language": "python",
   "name": "python3"
  },
  "language_info": {
   "codemirror_mode": {
    "name": "ipython",
    "version": 3
   },
   "file_extension": ".py",
   "mimetype": "text/x-python",
   "name": "python",
   "nbconvert_exporter": "python",
   "pygments_lexer": "ipython3",
   "version": "3.7.3"
  }
 },
 "nbformat": 4,
 "nbformat_minor": 2
}
